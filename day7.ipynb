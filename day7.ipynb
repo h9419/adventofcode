{
 "cells": [
  {
   "cell_type": "code",
   "execution_count": 1,
   "metadata": {},
   "outputs": [
    {
     "data": {
      "text/plain": [
       "250347426"
      ]
     },
     "execution_count": 1,
     "metadata": {},
     "output_type": "execute_result"
    }
   ],
   "source": [
    "import numpy as np\n",
    "\n",
    "lines = []\n",
    "with open(\"input7.txt\", \"r\") as f:\n",
    "    for line in f:\n",
    "        lines.append(line.strip().split())\n",
    "\n",
    "def JQKA(i):\n",
    "    try:\n",
    "        return {\n",
    "            'T': 10,\n",
    "            'J': 11,\n",
    "            'Q': 12,\n",
    "            'K': 13,\n",
    "            'A': 14\n",
    "        }[i]\n",
    "    except:\n",
    "        return int(i)\n",
    "\n",
    "def rate_hand(hand):\n",
    "    hand = [JQKA(h) for h in [*hand]]\n",
    "    hand_hash = \"\".join([str(h).zfill(2) for h in hand])\n",
    "    hits = np.zeros(15, dtype=int)\n",
    "    for card in hand:\n",
    "        hits[card] += 1\n",
    "    if np.max(hits) == 5:\n",
    "        return int(f\"7{hand_hash}\")\n",
    "    if np.max(hits) == 4:\n",
    "        return int(f\"6{hand_hash}\")\n",
    "    if np.max(hits) == 3:\n",
    "        if 2 in hits:\n",
    "            return int(f\"5{hand_hash}\")\n",
    "        else:\n",
    "            return int(f\"4{hand_hash}\")\n",
    "    pairs = np.array(np.where(hits == 2)).shape[1]\n",
    "    if pairs == 2:\n",
    "        return int(f\"3{hand_hash}\")\n",
    "    if pairs == 1:\n",
    "        return int(f\"2{hand_hash}\")\n",
    "    return int(f\"1{hand_hash}\")\n",
    "\n",
    "result = []\n",
    "for hand, bet in lines:\n",
    "    score = [rate_hand(hand), int(bet)]\n",
    "    result.append(score)\n",
    "result = np.array(result)\n",
    "orders = np.argsort(result[:,0])\n",
    "result_1 = np.sum(result[orders,1] * (np.arange(1, 1+len(lines))))\n",
    "\n",
    "result_1"
   ]
  },
  {
   "cell_type": "code",
   "execution_count": 2,
   "metadata": {},
   "outputs": [
    {
     "data": {
      "text/plain": [
       "251039553"
      ]
     },
     "execution_count": 2,
     "metadata": {},
     "output_type": "execute_result"
    }
   ],
   "source": [
    "import numpy as np\n",
    "\n",
    "lines = []\n",
    "with open(\"input7.txt\", \"r\") as f:\n",
    "    for line in f:\n",
    "        lines.append(line.strip().split())\n",
    "\n",
    "def JQKA(i):\n",
    "    try:\n",
    "        return {\n",
    "            'T': 10,\n",
    "            'J': 11,\n",
    "            'Q': 12,\n",
    "            'K': 13,\n",
    "            'A': 14\n",
    "        }[i]\n",
    "    except:\n",
    "        return int(i)\n",
    "\n",
    "def rate_hand(hand):\n",
    "    hand = [JQKA(h) for h in [*hand]]\n",
    "    hand_hash = \"\".join([str(h).zfill(2) for h in hand])\n",
    "    hits = np.zeros(15, dtype=int)\n",
    "    for card in hand:\n",
    "        hits[card] += 1\n",
    "    jokers = hits[11]\n",
    "    hits[11] = 0\n",
    "    hits[np.argmax(hits)] += jokers\n",
    "    if np.max(hits) == 5:\n",
    "        return int(f\"7{hand_hash}\")\n",
    "    if np.max(hits) == 4:\n",
    "        return int(f\"6{hand_hash}\")\n",
    "    if np.max(hits) == 3:\n",
    "        if 2 in hits:\n",
    "            return int(f\"5{hand_hash}\")\n",
    "        else:\n",
    "            return int(f\"4{hand_hash}\")\n",
    "    pairs = np.array(np.where(hits == 2)).shape[1]\n",
    "    if pairs == 2:\n",
    "        return int(f\"3{hand_hash}\")\n",
    "    if pairs == 1:\n",
    "        return int(f\"2{hand_hash}\")\n",
    "    return int(f\"1{hand_hash}\")\n",
    "\n",
    "result = []\n",
    "for hand, bet in lines:\n",
    "    score = [rate_hand(hand), int(bet)]\n",
    "    result.append(score)\n",
    "result = np.array(result)\n",
    "orders = np.argsort(result[:,0])\n",
    "result_1 = np.sum(result[orders,1] * (np.arange(1, 1+len(lines))))\n",
    "\n",
    "result_1"
   ]
  },
  {
   "cell_type": "markdown",
   "metadata": {},
   "source": []
  }
 ],
 "metadata": {
  "kernelspec": {
   "display_name": "Python 3",
   "language": "python",
   "name": "python3"
  },
  "language_info": {
   "codemirror_mode": {
    "name": "ipython",
    "version": 3
   },
   "file_extension": ".py",
   "mimetype": "text/x-python",
   "name": "python",
   "nbconvert_exporter": "python",
   "pygments_lexer": "ipython3",
   "version": "3.11.4"
  }
 },
 "nbformat": 4,
 "nbformat_minor": 2
}
