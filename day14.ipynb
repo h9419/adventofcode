{
 "cells": [
  {
   "cell_type": "code",
   "execution_count": 1,
   "metadata": {},
   "outputs": [],
   "source": [
    "import numpy as np\n",
    "from tqdm import trange\n",
    "DEFAULT_FILENAME = \"input14.txt\"\n",
    "def read_chars(filename = DEFAULT_FILENAME):\n",
    "    res = []\n",
    "    with open(filename, \"r\") as f:\n",
    "        for li in f:\n",
    "            res.append([*li.strip()])\n",
    "    values = np.array(res)\n",
    "    values_int = np.zeros(values.shape, dtype=int)\n",
    "    values_int[np.where(values == 'O')] = 1\n",
    "    values_int[np.where(values == '#')] = 2\n",
    "    return values_int"
   ]
  },
  {
   "cell_type": "code",
   "execution_count": 2,
   "metadata": {},
   "outputs": [
    {
     "name": "stdout",
     "output_type": "stream",
     "text": [
      "Part 1: 107951\n",
      "Part 2: 95736\n"
     ]
    }
   ],
   "source": [
    "def roll_left(mat):\n",
    "  res = []\n",
    "  for line in mat:\n",
    "    last_empty = 0\n",
    "    line_res = line.copy()\n",
    "    for ind, cha in enumerate(line):\n",
    "      if ind >= last_empty and cha == 1:\n",
    "        line_res[ind] = 0\n",
    "        line_res[last_empty] = 1\n",
    "        last_empty += 1\n",
    "      if cha == 2:\n",
    "        last_empty = ind + 1\n",
    "    res.append(line_res)\n",
    "  return np.array(res)\n",
    "def roll_up(mat):\n",
    "  return roll_left(mat.transpose((1,0))).transpose((1, 0))\n",
    "def roll_down(mat):\n",
    "  mat = np.flip(mat, axis=0)\n",
    "  mat = roll_up(mat)\n",
    "  mat = np.flip(mat, axis=0)\n",
    "  return mat\n",
    "def roll_right(mat):\n",
    "  mat = np.flip(mat, axis=1)\n",
    "  mat = roll_left(mat)\n",
    "  mat = np.flip(mat, axis=1)\n",
    "  return mat\n",
    "def tabulate(mat):\n",
    "  return np.sum(mat.shape[0] - np.where(mat == 1)[0])\n",
    "def _hash(mat):\n",
    "  return np.sum(mat.reshape(-1) * 3 * np.arange(mat.size))\n",
    "cache = {}\n",
    "def spin(mat):\n",
    "  global cache\n",
    "  _key = _hash(mat)\n",
    "  if _key in cache.keys():\n",
    "    return cache[_key]\n",
    "  res = roll_right(roll_down(roll_left(roll_up(mat))))\n",
    "  cache[_key] = res\n",
    "  return res\n",
    "print(f\"Part 1: {tabulate(roll_up(read_chars()))}\")\n",
    "\n",
    "## part 2\n",
    "hits = {}\n",
    "values = read_chars()\n",
    "for i in range(1000):\n",
    "  _key = _hash(values)\n",
    "  if _key in cache.keys():\n",
    "    init_loops = hits[_key] + 1\n",
    "    loop_size = i - hits[_key]\n",
    "    real_iters = init_loops + (1000000000 - init_loops) % loop_size\n",
    "    break\n",
    "  values = spin(values)\n",
    "  hits[_key] = i\n",
    "values = read_chars()\n",
    "for _ in range(real_iters):\n",
    "  values = spin(values)\n",
    "print(f\"Part 2: {tabulate(values)}\")"
   ]
  }
 ],
 "metadata": {
  "kernelspec": {
   "display_name": "Python 3",
   "language": "python",
   "name": "python3"
  },
  "language_info": {
   "codemirror_mode": {
    "name": "ipython",
    "version": 3
   },
   "file_extension": ".py",
   "mimetype": "text/x-python",
   "name": "python",
   "nbconvert_exporter": "python",
   "pygments_lexer": "ipython3",
   "version": "3.10.12"
  }
 },
 "nbformat": 4,
 "nbformat_minor": 2
}
