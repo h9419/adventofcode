{
 "cells": [
  {
   "cell_type": "code",
   "execution_count": 1,
   "metadata": {},
   "outputs": [],
   "source": [
    "import numpy as np\n",
    "DEFAULT_FILENAME = \"input11.txt\"\n",
    "def read_chars(filename = DEFAULT_FILENAME):\n",
    "    res = []\n",
    "    with open(filename, \"r\") as f:\n",
    "        for li in f:\n",
    "            res.append([*li.strip()])\n",
    "    return res"
   ]
  },
  {
   "cell_type": "code",
   "execution_count": 2,
   "metadata": {},
   "outputs": [
    {
     "name": "stdout",
     "output_type": "stream",
     "text": [
      "10292708\n"
     ]
    }
   ],
   "source": [
    "values = np.array(read_chars())\n",
    "val = np.zeros(values.shape, dtype=int)\n",
    "val[np.where(values == '#')] = 1\n",
    "val_new = []\n",
    "for row in val:\n",
    "  val_new.append(row)\n",
    "  if np.sum(row) == 0:\n",
    "    val_new.append(row)\n",
    "val = np.array(val_new).transpose((1, 0)).copy()\n",
    "val_new = []\n",
    "for row in val:\n",
    "  val_new.append(row)\n",
    "  if np.sum(row) == 0:\n",
    "    val_new.append(row)\n",
    "val = np.array(val_new).transpose((1, 0)).copy()\n",
    "hits = np.where(val != 0)\n",
    "hits = np.array(hits)\n",
    "sol = 0\n",
    "for i in range(np.array(hits).shape[1]):\n",
    "  for j in range(i+1, np.array(hits).shape[1]):\n",
    "    sol += np.sum(np.abs(hits[:,i] - hits[:,j]))\n",
    "print(sol)"
   ]
  },
  {
   "cell_type": "code",
   "execution_count": 3,
   "metadata": {},
   "outputs": [
    {
     "name": "stdout",
     "output_type": "stream",
     "text": [
      "790194712336\n"
     ]
    }
   ],
   "source": [
    "values = np.array(read_chars())\n",
    "val = np.zeros(values.shape, dtype=int)\n",
    "val[np.where(values == '#')] = 1\n",
    "hits = np.where(val != 0)\n",
    "hits = np.array(hits)\n",
    "sol2 = 0\n",
    "for i in range(np.array(hits).shape[1]):\n",
    "  for j in range(i+1, np.array(hits).shape[1]):\n",
    "    sol2 += np.sum(np.abs(hits[:,i] - hits[:,j]))\n",
    "# each empty row/col is represented once in sol and twice in sol2\n",
    "print((sol - sol2) * 999999 + sol2)"
   ]
  }
 ],
 "metadata": {
  "kernelspec": {
   "display_name": "Python 3",
   "language": "python",
   "name": "python3"
  },
  "language_info": {
   "codemirror_mode": {
    "name": "ipython",
    "version": 3
   },
   "file_extension": ".py",
   "mimetype": "text/x-python",
   "name": "python",
   "nbconvert_exporter": "python",
   "pygments_lexer": "ipython3",
   "version": "3.10.12"
  }
 },
 "nbformat": 4,
 "nbformat_minor": 2
}
