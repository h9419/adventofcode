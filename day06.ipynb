{
 "cells": [
  {
   "cell_type": "code",
   "execution_count": 1,
   "metadata": {},
   "outputs": [
    {
     "name": "stdout",
     "output_type": "stream",
     "text": [
      "512295\n",
      "36530883\n"
     ]
    }
   ],
   "source": [
    "times = [46   ,  80   ,  78   ,  66]\n",
    "Distance = [  214  , 1177  , 1402  , 1024]\n",
    "res=1\n",
    "for j in range(4):\n",
    "  time = times[j]\n",
    "  dis = Distance[j]\n",
    "  count = 0\n",
    "  for i in range(time+1):\n",
    "    if (i *(time -i)) > dis:\n",
    "      count += 1\n",
    "  res *= count\n",
    "print(res)\n",
    "\n",
    "time = 46807866\n",
    "dis = 214117714021024\n",
    "count = 0\n",
    "for i in range(time+1):\n",
    "    if (i *(time -i)) > dis:\n",
    "      count += 1\n",
    "print(count)"
   ]
  },
  {
   "cell_type": "markdown",
   "metadata": {},
   "source": []
  }
 ],
 "metadata": {
  "kernelspec": {
   "display_name": "Python 3",
   "language": "python",
   "name": "python3"
  },
  "language_info": {
   "codemirror_mode": {
    "name": "ipython",
    "version": 3
   },
   "file_extension": ".py",
   "mimetype": "text/x-python",
   "name": "python",
   "nbconvert_exporter": "python",
   "pygments_lexer": "ipython3",
   "version": "3.11.4"
  }
 },
 "nbformat": 4,
 "nbformat_minor": 2
}
