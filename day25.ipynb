{
 "cells": [
  {
   "cell_type": "code",
   "execution_count": 1,
   "metadata": {},
   "outputs": [],
   "source": [
    "import numpy as np\n",
    "from tqdm import trange\n",
    "from enum import Enum\n",
    "DEFAULT_FILENAME = \"input25.txt\"\n",
    "def read_chars(filename = DEFAULT_FILENAME):\n",
    "    res = {}\n",
    "    with open(filename, \"r\") as f:\n",
    "        for li in f:\n",
    "            line = li.strip().replace(\":\", \"\").split()\n",
    "            res[line[0]] = line[1:]\n",
    "    return res\n"
   ]
  },
  {
   "cell_type": "code",
   "execution_count": 2,
   "metadata": {},
   "outputs": [],
   "source": [
    "values = read_chars()\n",
    "for key, val in read_chars().items():\n",
    "  for v in val:\n",
    "    if v not in values.keys():\n",
    "      values[v] = [key]\n",
    "    elif key not in values[v]:\n",
    "      values[v].append(key)"
   ]
  },
  {
   "cell_type": "code",
   "execution_count": 3,
   "metadata": {},
   "outputs": [
    {
     "name": "stdout",
     "output_type": "stream",
     "text": [
      "Part 1: 551196\n"
     ]
    }
   ],
   "source": [
    "def find_additional_cost(contains, connected, new):\n",
    "  existing = contains + connected\n",
    "  count = 0\n",
    "  for v in values[new]:\n",
    "    if v not in existing:\n",
    "      count += 1\n",
    "  return count\n",
    "\n",
    "contains = [list(values.keys())[0]]\n",
    "connected = list(values[contains[0]])\n",
    "last_connections = 0\n",
    "hits = []\n",
    "while True:\n",
    "  ind = 0\n",
    "  cost = 99\n",
    "  for i, c in enumerate(connected):\n",
    "    cc = find_additional_cost(contains, connected, c)\n",
    "    if cc < cost:\n",
    "      ind = i\n",
    "      cost = cc\n",
    "  candidate = connected[ind]\n",
    "  connected.remove(candidate)\n",
    "  contains.append(candidate)\n",
    "  for v in values[candidate]:\n",
    "    if v not in connected:\n",
    "      if v not in contains:\n",
    "        connected.append(v)\n",
    "  if last_connections == 3 and last_connections == len(connected):\n",
    "    break\n",
    "  last_connections = len(connected)\n",
    "sol1 = len(contains) * (len(values.keys()) - len(contains))\n",
    "print(f\"Part 1: {sol1}\")"
   ]
  }
 ],
 "metadata": {
  "kernelspec": {
   "display_name": "Python 3",
   "language": "python",
   "name": "python3"
  },
  "language_info": {
   "codemirror_mode": {
    "name": "ipython",
    "version": 3
   },
   "file_extension": ".py",
   "mimetype": "text/x-python",
   "name": "python",
   "nbconvert_exporter": "python",
   "pygments_lexer": "ipython3",
   "version": "3.11.4"
  }
 },
 "nbformat": 4,
 "nbformat_minor": 2
}
