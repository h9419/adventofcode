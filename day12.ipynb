{
 "cells": [
  {
   "cell_type": "code",
   "execution_count": 1,
   "metadata": {},
   "outputs": [],
   "source": [
    "import numpy as np\n",
    "from tqdm import tqdm\n",
    "\n",
    "DEFAULT_FILENAME = \"input12.txt\"\n",
    "def read_lines(filename = DEFAULT_FILENAME):\n",
    "    res = []\n",
    "    with open(filename, \"r\") as f:\n",
    "        for li in f:\n",
    "            instr, arr = li.strip().split(' ')\n",
    "            instr = np.array([*instr])\n",
    "            arr = [int(a) for a in arr.split(',')]\n",
    "            instr_np = np.zeros(len(instr), dtype=int)\n",
    "            instr_np[np.where(instr == '#')] = 1\n",
    "            instr_np[np.where(instr == '?')] = 2\n",
    "            res.append((instr_np, arr))\n",
    "    return res"
   ]
  },
  {
   "cell_type": "code",
   "execution_count": 2,
   "metadata": {},
   "outputs": [
    {
     "name": "stderr",
     "output_type": "stream",
     "text": [
      "  0%|          | 0/1000 [00:00<?, ?it/s]"
     ]
    },
    {
     "name": "stderr",
     "output_type": "stream",
     "text": [
      "100%|██████████| 1000/1000 [00:38<00:00, 26.07it/s]"
     ]
    },
    {
     "name": "stdout",
     "output_type": "stream",
     "text": [
      "Part 1: 7922\n"
     ]
    },
    {
     "name": "stderr",
     "output_type": "stream",
     "text": [
      "\n"
     ]
    }
   ],
   "source": [
    "def reduce_spaces(spaces):\n",
    "  instructions = []\n",
    "  prev_elem = 0\n",
    "  for elem in spaces:\n",
    "    if elem == 1 and prev_elem == 0:\n",
    "      instructions.append(1)\n",
    "    elif elem == 1 and prev_elem == 1:\n",
    "      instructions[-1] += 1\n",
    "    prev_elem = elem\n",
    "  return instructions\n",
    "def try_naive(line):\n",
    "  spaces, instructions = line\n",
    "  instructions_diff = np.sum(instructions) - np.where(spaces == 1)[0].size\n",
    "  count = 0\n",
    "  slots = np.where(spaces == 2)[0]\n",
    "  for i in range(2 ** slots.size):\n",
    "    for j in range(slots.size):\n",
    "      spaces[slots[j]] = (i >> j) % 2\n",
    "    if reduce_spaces(spaces) == instructions:\n",
    "      count += 1\n",
    "  return count\n",
    "\n",
    "values = read_lines()\n",
    "count_total = 0\n",
    "for line in tqdm(values):\n",
    "  count_total += try_naive(line)\n",
    "print(f\"Part 1: {count_total}\")"
   ]
  },
  {
   "cell_type": "code",
   "execution_count": 3,
   "metadata": {},
   "outputs": [
    {
     "name": "stderr",
     "output_type": "stream",
     "text": [
      "  0%|          | 0/1000 [00:00<?, ?it/s]"
     ]
    },
    {
     "name": "stderr",
     "output_type": "stream",
     "text": [
      "100%|██████████| 1000/1000 [00:00<00:00, 4050.69it/s]\n"
     ]
    },
    {
     "name": "stdout",
     "output_type": "stream",
     "text": [
      "Part 1: 7922\n"
     ]
    },
    {
     "name": "stderr",
     "output_type": "stream",
     "text": [
      "100%|██████████| 1000/1000 [05:24<00:00,  3.08it/s]"
     ]
    },
    {
     "name": "stdout",
     "output_type": "stream",
     "text": [
      "Part 2: 18093821750095\n"
     ]
    },
    {
     "name": "stderr",
     "output_type": "stream",
     "text": [
      "\n"
     ]
    }
   ],
   "source": [
    "def try_smart(spaces, instructions):\n",
    "  if len(instructions) == 0:\n",
    "    return not np.any(spaces == 1)\n",
    "  # pick the middle and start going\n",
    "  ins_ind = len(instructions) // 2\n",
    "  pad_before = int(np.sum(instructions[:ins_ind])) + len(instructions[:ins_ind])\n",
    "  pad_after = int(np.sum(instructions[ins_ind+1:])) + len(instructions[ins_ind+1:])\n",
    "  res = 0\n",
    "  for i in range(pad_before, spaces.size - pad_after - instructions[ins_ind]+1):\n",
    "    if np.all(spaces[i:i + instructions[ins_ind]] > 0):\n",
    "      if i == 0 or spaces[i-1] != 1:\n",
    "        if i + instructions[ins_ind] == len(spaces) or spaces[i + instructions[ins_ind]] != 1:\n",
    "          left = try_smart(spaces[:i - (0 if i == 0 else 1)], instructions[:ins_ind])\n",
    "          if left > 0:\n",
    "            right = try_smart(spaces[i+instructions[ins_ind]+(0 if i + instructions[ins_ind] == len(spaces) else 1):], instructions[ins_ind+1:])\n",
    "            res += left * right\n",
    "  return res\n",
    "\n",
    "\n",
    "values = read_lines()\n",
    "count_total = 0\n",
    "for line in tqdm(values):\n",
    "  count_total += try_smart(line[0], line[1])\n",
    "print(f\"Part 1: {count_total}\")\n",
    "count_total = 0\n",
    "for line in tqdm(values):\n",
    "  count_total += try_smart(np.concatenate([line[0], [2], line[0], [2], line[0], [2], line[0], [2], line[0]]), line[1] * 5)\n",
    "print(f\"Part 2: {count_total}\")"
   ]
  }
 ],
 "metadata": {
  "kernelspec": {
   "display_name": "Python 3",
   "language": "python",
   "name": "python3"
  },
  "language_info": {
   "codemirror_mode": {
    "name": "ipython",
    "version": 3
   },
   "file_extension": ".py",
   "mimetype": "text/x-python",
   "name": "python",
   "nbconvert_exporter": "python",
   "pygments_lexer": "ipython3",
   "version": "3.11.4"
  }
 },
 "nbformat": 4,
 "nbformat_minor": 2
}
