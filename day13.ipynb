{
 "cells": [
  {
   "cell_type": "code",
   "execution_count": 2,
   "metadata": {},
   "outputs": [],
   "source": [
    "import numpy as np\n",
    "DEFAULT_FILENAME = \"input13.txt\"\n",
    "def read_chars(filename = DEFAULT_FILENAME):\n",
    "    res = []\n",
    "    res.append([])\n",
    "    with open(filename, \"r\") as f:\n",
    "        for li in f:\n",
    "            if li.strip() == \"\":\n",
    "                res.append([])\n",
    "            else:\n",
    "                res[-1].append(np.array([*li.strip()]))\n",
    "    return res"
   ]
  },
  {
   "cell_type": "code",
   "execution_count": 6,
   "metadata": {},
   "outputs": [
    {
     "name": "stdout",
     "output_type": "stream",
     "text": [
      "Part 1: 33195\n",
      "Part 2: 31836\n"
     ]
    }
   ],
   "source": [
    "def solve(mat):\n",
    "  count1 = 0\n",
    "  count2 = 0\n",
    "  pairs = np.zeros(mat.shape[0], dtype=int)\n",
    "  errors = np.zeros(mat.shape[0], dtype=int)\n",
    "  for i in range(mat.shape[0]):\n",
    "    for j in range(i+1, mat.shape[0], 2):\n",
    "      num_matches = np.sum(mat[i] == mat[j])\n",
    "      if num_matches >= (mat.shape[1] - 1):\n",
    "        rows_before = (i + j + 1) // 2\n",
    "        pairs[rows_before] += 1\n",
    "        errors[rows_before] += mat.shape[1] - num_matches\n",
    "  for ind, hit in enumerate(pairs):\n",
    "    target = min(ind, mat.shape[0] - ind)\n",
    "    if target > 0 and hit == target and errors[ind] == 0:\n",
    "      count1 += ind\n",
    "    if target > 0 and hit == target and errors[ind] == 1:\n",
    "      count2 += ind\n",
    "  return count1, count2\n",
    "\n",
    "sol1 = 0\n",
    "sol2 = 0\n",
    "values = [np.array(a) for a in read_chars()]\n",
    "for mat in values:\n",
    "  count1, count2 = solve(mat)\n",
    "  sol1 += 100 * count1\n",
    "  sol2 += 100 * count2\n",
    "  mat = mat.transpose((1, 0))\n",
    "  count1, count2 = solve(mat)\n",
    "  sol1 += count1\n",
    "  sol2 += count2\n",
    "print(f\"Part 1: {sol1}\")\n",
    "print(f\"Part 2: {sol2}\")"
   ]
  }
 ],
 "metadata": {
  "kernelspec": {
   "display_name": "Python 3",
   "language": "python",
   "name": "python3"
  },
  "language_info": {
   "codemirror_mode": {
    "name": "ipython",
    "version": 3
   },
   "file_extension": ".py",
   "mimetype": "text/x-python",
   "name": "python",
   "nbconvert_exporter": "python",
   "pygments_lexer": "ipython3",
   "version": "3.11.4"
  }
 },
 "nbformat": 4,
 "nbformat_minor": 2
}
