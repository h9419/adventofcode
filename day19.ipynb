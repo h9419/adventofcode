{
 "cells": [
  {
   "cell_type": "code",
   "execution_count": 1,
   "metadata": {},
   "outputs": [
    {
     "name": "stdout",
     "output_type": "stream",
     "text": [
      "Part 1: 446935\n"
     ]
    }
   ],
   "source": [
    "DEFAULT_FILENAME = \"input19.txt\"\n",
    "\n",
    "workflow = {'A': lambda _ : True, 'R': lambda _ : False}\n",
    "\n",
    "def convert_to_lambda_str(ins):\n",
    "    if len(ins) == 1:\n",
    "        return f\"(lambda part: workflow['{ins[0]}'](part))\"\n",
    "    condition, key = ins[0].split(\":\")\n",
    "    tail = ins[1:]\n",
    "    condition = f\"(lambda part: workflow['{key}'](part) if part['{condition[0]}']{condition[1:]} else {convert_to_lambda_str(tail)}(part))\"\n",
    "    return condition\n",
    "\n",
    "def load_file(filename = DEFAULT_FILENAME):\n",
    "    global workflow\n",
    "    parts = []\n",
    "    with open(filename, \"r\") as f:\n",
    "        workflow_loaded = False\n",
    "        for li in f:\n",
    "            if len(li.strip()) == 0:\n",
    "                workflow_loaded = True\n",
    "                continue\n",
    "            if workflow_loaded:\n",
    "                li = li.replace(\"=\", \":\")\n",
    "                for c in \"xmas\":\n",
    "                    li = li.replace(c, f\"'{c}'\")\n",
    "                parts.append(eval(li))\n",
    "            else:\n",
    "                key = li.split(\"{\")[0]\n",
    "                ins = li.split(\"{\")[1].strip()[:-1].split(',')\n",
    "                workflow[key] = eval(convert_to_lambda_str(ins))\n",
    "    return parts\n",
    "\n",
    "parts = load_file()\n",
    "\n",
    "accepted_sum = 0\n",
    "for part in parts:\n",
    "    if workflow[\"in\"](part):\n",
    "        for c in \"xmas\":\n",
    "            accepted_sum += part[c]\n",
    "\n",
    "# life is a lambda\n",
    "print(f\"Part 1: {accepted_sum}\")"
   ]
  },
  {
   "cell_type": "code",
   "execution_count": 2,
   "metadata": {},
   "outputs": [
    {
     "name": "stdout",
     "output_type": "stream",
     "text": [
      "Part 2: 141882534122898\n"
     ]
    }
   ],
   "source": [
    "class day_19_part_2:\n",
    "  def load_file(self, filename = DEFAULT_FILENAME):\n",
    "      self.parts = []\n",
    "      self.workflow = {}\n",
    "      with open(filename, \"r\") as f:\n",
    "          for li in f:\n",
    "              if len(li.strip()) == 0:\n",
    "                  break\n",
    "              key = li.split(\"{\")[0]\n",
    "              ins = li.split(\"{\")[1].strip()[:-1].split(',')\n",
    "              self.workflow[key] = ins\n",
    "  @staticmethod\n",
    "  def ranges_comb(ranges):\n",
    "    total_comb = 0\n",
    "    for r in ranges:\n",
    "      this_comb = 1\n",
    "      for start, end in r:\n",
    "        this_comb *= (end - start + 1)\n",
    "      total_comb += this_comb\n",
    "    return total_comb\n",
    "  @staticmethod\n",
    "  def ranges_overlap(r1, r2):\n",
    "    if r1[0] > r2[1] or r2[0] > r1[1]:\n",
    "      return (0, -1)\n",
    "    return (max(r1[0], r2[0]), min(r1[1], r2[1]))\n",
    "  def handle_workflow(self, key, ranges):\n",
    "    if key == 'A':\n",
    "      return ranges\n",
    "    elif key == 'R':\n",
    "      return []\n",
    "    return self.handle_instructions(self.workflow[key], ranges)\n",
    "  def handle_instructions(self, ins, ranges):\n",
    "    if len(ins) == 1:\n",
    "      return self.handle_workflow(ins[0], ranges)\n",
    "    condition, key = ins[0].split(\":\")\n",
    "    tail = ins[1:]\n",
    "    new_ranges = []\n",
    "    for i, c in enumerate(\"xmas\"):\n",
    "      if c in condition:\n",
    "        thres = int(condition[2:])\n",
    "        true_r, false_r = ((thres + 1, 4000), (0, thres)) if \">\" in condition else ((0, thres - 1), (thres, 4000))\n",
    "        true_ranges = [[self.ranges_overlap(true_r, ranges_iter[ii]) if i == ii else ranges_iter[ii] for ii in range(4)] for ranges_iter in ranges]\n",
    "        false_ranges = [[self.ranges_overlap(false_r, ranges_iter[ii]) if i == ii else ranges_iter[ii] for ii in range(4)] for ranges_iter in ranges]\n",
    "        new_ranges += self.handle_workflow(key, true_ranges)\n",
    "        new_ranges += self.handle_instructions(tail, false_ranges)\n",
    "        break\n",
    "    return [r for r in new_ranges if day_19_part_2.ranges_comb([r])]\n",
    "\n",
    "sol2 = day_19_part_2()\n",
    "sol2.load_file()\n",
    "ranges = sol2.handle_workflow(\"in\", [[(1, 4000), (1, 4000), (1, 4000), (1, 4000)]])\n",
    "total_comb = day_19_part_2.ranges_comb(ranges)\n",
    "# still recursive\n",
    "print(f\"Part 2: {total_comb}\")"
   ]
  }
 ],
 "metadata": {
  "kernelspec": {
   "display_name": "Python 3",
   "language": "python",
   "name": "python3"
  },
  "language_info": {
   "codemirror_mode": {
    "name": "ipython",
    "version": 3
   },
   "file_extension": ".py",
   "mimetype": "text/x-python",
   "name": "python",
   "nbconvert_exporter": "python",
   "pygments_lexer": "ipython3",
   "version": "3.10.12"
  }
 },
 "nbformat": 4,
 "nbformat_minor": 2
}
