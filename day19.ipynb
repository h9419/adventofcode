{
 "cells": [
  {
   "cell_type": "code",
   "execution_count": 1,
   "metadata": {},
   "outputs": [
    {
     "name": "stdout",
     "output_type": "stream",
     "text": [
      "Part 1: 446935\n"
     ]
    }
   ],
   "source": [
    "DEFAULT_FILENAME = \"input19.txt\"\n",
    "\n",
    "workflow = {'A': lambda _ : True, 'R': lambda _ : False}\n",
    "\n",
    "def convert_to_lambda_str(ins):\n",
    "    if len(ins) == 1:\n",
    "        return f\"(lambda part: workflow['{ins[0]}'](part))\"\n",
    "    condition, key = ins[0].split(\":\")\n",
    "    tail = ins[1:]\n",
    "    condition = f\"(lambda part: workflow['{key}'](part) if part['{condition[0]}']{condition[1:]} else {convert_to_lambda_str(tail)}(part))\"\n",
    "    return condition\n",
    "\n",
    "def load_file(filename = DEFAULT_FILENAME):\n",
    "    global workflow\n",
    "    parts = []\n",
    "    with open(filename, \"r\") as f:\n",
    "        workflow_loaded = False\n",
    "        for li in f:\n",
    "            if len(li.strip()) == 0:\n",
    "                workflow_loaded = True\n",
    "                continue\n",
    "            if workflow_loaded:\n",
    "                li = li.replace(\"=\", \":\")\n",
    "                for c in \"xmas\":\n",
    "                    li = li.replace(c, f\"'{c}'\")\n",
    "                parts.append(eval(li))\n",
    "            else:\n",
    "                key = li.split(\"{\")[0]\n",
    "                ins = li.split(\"{\")[1].strip()[:-1].split(',')\n",
    "                workflow[key] = eval(convert_to_lambda_str(ins))\n",
    "    return parts\n",
    "\n",
    "parts = load_file()\n",
    "\n",
    "accepted_sum = 0\n",
    "for part in parts:\n",
    "    if workflow[\"in\"](part):\n",
    "        for c in \"xmas\":\n",
    "            accepted_sum += part[c]\n",
    "print(f\"Part 1: {accepted_sum}\")"
   ]
  }
 ],
 "metadata": {
  "kernelspec": {
   "display_name": "Python 3",
   "language": "python",
   "name": "python3"
  },
  "language_info": {
   "codemirror_mode": {
    "name": "ipython",
    "version": 3
   },
   "file_extension": ".py",
   "mimetype": "text/x-python",
   "name": "python",
   "nbconvert_exporter": "python",
   "pygments_lexer": "ipython3",
   "version": "3.10.12"
  }
 },
 "nbformat": 4,
 "nbformat_minor": 2
}
