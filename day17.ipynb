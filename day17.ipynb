{
 "cells": [
  {
   "cell_type": "code",
   "execution_count": 1,
   "metadata": {},
   "outputs": [],
   "source": [
    "import numpy as np\n",
    "from tqdm import trange\n",
    "import heapq\n",
    "DEFAULT_FILENAME = \"input17.txt\"\n",
    "def read_chars(filename = DEFAULT_FILENAME):\n",
    "    res = []\n",
    "    with open(filename, \"r\") as f:\n",
    "        for li in f:\n",
    "            res.append(np.array([int(e) for e in [*li.strip()]]))\n",
    "    res = np.array(res)\n",
    "    return res\n",
    "Right = (0, 1)\n",
    "Down = (1, 0)\n",
    "Left = (0, -1)\n",
    "Up = (-1, 0)"
   ]
  },
  {
   "cell_type": "code",
   "execution_count": 2,
   "metadata": {},
   "outputs": [
    {
     "name": "stdout",
     "output_type": "stream",
     "text": [
      "Part 1: 1013\n",
      "Part 2: 1215\n"
     ]
    }
   ],
   "source": [
    "def dis_pathfind(world_map, min_conse, max_conse):\n",
    "  visited = set()\n",
    "  worklist = [(0, 0, 0, Right, 1), (0, 0, 0, Down, 1)] # cost, x, y, _dir, _dir_count\n",
    "  l_c = -1\n",
    "  while len(worklist) > 0:\n",
    "    cost, x, y, _dir, _dir_count = heapq.heappop(worklist)\n",
    "    if (x, y, _dir, _dir_count) in visited:\n",
    "      continue\n",
    "    else:\n",
    "      visited.add((x, y, _dir, _dir_count))\n",
    "    new_x = x + _dir[1]\n",
    "    new_y = y + _dir[0]\n",
    "    if new_x < 0 or new_y < 0 or new_x >= world_map.shape[1] or new_y >= world_map.shape[0]:\n",
    "      continue\n",
    "    new_cost = cost + world_map[new_y, new_x]\n",
    "    if _dir_count >= min_conse and _dir_count <= max_conse:\n",
    "      if new_x == world_map.shape[1] - 1 and new_y == world_map.shape[0] - 1:\n",
    "        return new_cost\n",
    "    for d in [Right, Down, Left, Up]:\n",
    "      # no reverse\n",
    "      if d[0] + _dir[0] == 0 and d[1] + _dir[1] == 0:\n",
    "        continue\n",
    "      new_d_count = _dir_count + 1 if d == _dir else 1\n",
    "      if (d != _dir and _dir_count < min_conse) or new_d_count > max_conse:\n",
    "        continue\n",
    "      heapq.heappush(worklist, (new_cost, new_x, new_y, d, new_d_count))\n",
    "print(f\"Part 1: {dis_pathfind(read_chars(), 1, 3)}\")\n",
    "print(f\"Part 2: {dis_pathfind(read_chars(), 4, 10)}\")"
   ]
  }
 ],
 "metadata": {
  "kernelspec": {
   "display_name": "Python 3",
   "language": "python",
   "name": "python3"
  },
  "language_info": {
   "codemirror_mode": {
    "name": "ipython",
    "version": 3
   },
   "file_extension": ".py",
   "mimetype": "text/x-python",
   "name": "python",
   "nbconvert_exporter": "python",
   "pygments_lexer": "ipython3",
   "version": "3.10.12"
  }
 },
 "nbformat": 4,
 "nbformat_minor": 2
}
