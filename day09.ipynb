{
 "cells": [
  {
   "cell_type": "code",
   "execution_count": 34,
   "metadata": {},
   "outputs": [
    {
     "name": "stdout",
     "output_type": "stream",
     "text": [
      "1921197370\n",
      "1124\n"
     ]
    }
   ],
   "source": [
    "def read_lines(filename = \"input9.txt\"):\n",
    "    res = []\n",
    "    with open(filename, \"r\") as f:\n",
    "        for li in f:\n",
    "            res.append([int(l) for l in li.strip().split()])\n",
    "    return res\n",
    "values = read_lines()\n",
    "\n",
    "s1 = 0\n",
    "s2 = 0\n",
    "for value in values:\n",
    "    sol1 = value[-1]\n",
    "    sol2 = value[0]\n",
    "    len_val = len(value)\n",
    "    for _ in range(len_val-1):\n",
    "        tmp = []\n",
    "        for i in range(1, len(value)):\n",
    "            tmp.append(value[i] - value[i-1])\n",
    "        value = tmp\n",
    "        sol1 += value[-1]\n",
    "        sol2 = value[0] - sol2\n",
    "    s1 += sol1\n",
    "    s2 += sol2\n",
    "print(s1)\n",
    "print(s2)"
   ]
  }
 ],
 "metadata": {
  "kernelspec": {
   "display_name": "Python 3",
   "language": "python",
   "name": "python3"
  },
  "language_info": {
   "codemirror_mode": {
    "name": "ipython",
    "version": 3
   },
   "file_extension": ".py",
   "mimetype": "text/x-python",
   "name": "python",
   "nbconvert_exporter": "python",
   "pygments_lexer": "ipython3",
   "version": "3.10.12"
  }
 },
 "nbformat": 4,
 "nbformat_minor": 2
}
