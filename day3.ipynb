{
 "cells": [
  {
   "cell_type": "code",
   "execution_count": 21,
   "metadata": {},
   "outputs": [
    {
     "data": {
      "text/plain": [
       "533775"
      ]
     },
     "execution_count": 21,
     "metadata": {},
     "output_type": "execute_result"
    }
   ],
   "source": [
    "import numpy as np\n",
    "import re\n",
    "\n",
    "def read_lines(filename = \"input3.txt\"):\n",
    "    res = []\n",
    "    with open(filename, \"r\") as f:\n",
    "        for li in f:\n",
    "            res.append(li.strip())\n",
    "    return res\n",
    "res = 0\n",
    "lines = read_lines()\n",
    "for linenum, line in enumerate(lines):\n",
    "    indices = [(m.start(0), m.end(0)) for m in re.finditer(rf\"\\b(\\d+)\\b\", line)]\n",
    "    for st, ed in indices:\n",
    "        ss = st\n",
    "        eed = ed\n",
    "        st = np.max([0, st-1])\n",
    "        ed = np.min([ed+1,len(line)-1])\n",
    "        stl = np.max([0, linenum -1])\n",
    "        edl = np.min([linenum+1, len(lines)-1])\n",
    "        try:\n",
    "            for y in range(stl, edl+1):\n",
    "                for x in range(st, ed):\n",
    "                    c = (lines[y][x])\n",
    "                    if c != '.' and not c.isnumeric():\n",
    "                        # print(\"found\" + line[ss:eed])\n",
    "                        res += int(line[ss:eed])\n",
    "                        # print(x, y)\n",
    "                        break\n",
    "                else:\n",
    "                    continue\n",
    "                break\n",
    "            # print(st,ed,stl,edl)\n",
    "        except: pass\n",
    "\n",
    "res"
   ]
  },
  {
   "cell_type": "code",
   "execution_count": 1,
   "metadata": {},
   "outputs": [
    {
     "name": "stdout",
     "output_type": "stream",
     "text": [
      "312\n"
     ]
    },
    {
     "data": {
      "text/plain": [
       "78236071"
      ]
     },
     "execution_count": 1,
     "metadata": {},
     "output_type": "execute_result"
    }
   ],
   "source": [
    "import numpy as np\n",
    "import re\n",
    "\n",
    "def read_lines(filename = \"input3.txt\"):\n",
    "    res = []\n",
    "    with open(filename, \"r\") as f:\n",
    "        for li in f:\n",
    "            res.append(li.strip())\n",
    "    return res\n",
    "lines = read_lines()\n",
    "res = 0\n",
    "count = 0\n",
    "maapa = np.array([[0 for I in range(len(li))] for li in lines])\n",
    "maapm = np.array([[1 for I in range(len(li))] for li in lines])\n",
    "for linenum, line in enumerate(lines):\n",
    "    indices = [(m.start(0), m.end(0)) for m in re.finditer(rf\"\\b(\\d+)\\b\", line)]\n",
    "    for st, ed in indices:\n",
    "        ss = st\n",
    "        eed = ed\n",
    "        st = np.max([0, st-1])\n",
    "        ed = np.min([ed+1,len(line)-1])\n",
    "        stl = np.max([0, linenum -1])\n",
    "        edl = np.min([linenum+1, len(lines)-1])\n",
    "        for y in range(stl, edl+1):\n",
    "            for x in range(st, ed):\n",
    "                maapa[y][x] += 1\n",
    "                if (maapa[y][x] <= 3):\n",
    "                    maapm[y][x] *= int(line[ss:eed])\n",
    "for linenum, line in enumerate(lines):\n",
    "    for st in range(len(line)):\n",
    "        if line[st] != '*':\n",
    "            continue\n",
    "        if maapa[linenum, st] == 2:\n",
    "            res += maapm[linenum, st]\n",
    "            count += 1\n",
    "            # print(st, ed, line[st], maapa[linenum, st], maapm[linenum, st])\n",
    "print(count)\n",
    "# print(maapa)\n",
    "# print(maapm[0, 0:10])\n",
    "res"
   ]
  },
  {
   "cell_type": "markdown",
   "metadata": {},
   "source": []
  }
 ],
 "metadata": {
  "kernelspec": {
   "display_name": "Python 3",
   "language": "python",
   "name": "python3"
  },
  "language_info": {
   "codemirror_mode": {
    "name": "ipython",
    "version": 3
   },
   "file_extension": ".py",
   "mimetype": "text/x-python",
   "name": "python",
   "nbconvert_exporter": "python",
   "pygments_lexer": "ipython3",
   "version": "3.11.4"
  }
 },
 "nbformat": 4,
 "nbformat_minor": 2
}
