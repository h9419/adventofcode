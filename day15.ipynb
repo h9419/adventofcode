{
 "cells": [
  {
   "cell_type": "code",
   "execution_count": 1,
   "metadata": {},
   "outputs": [],
   "source": [
    "import numpy as np\n",
    "from tqdm import trange\n",
    "DEFAULT_FILENAME = \"input15.txt\"\n",
    "def read_instructions(filename = DEFAULT_FILENAME):\n",
    "    return np.loadtxt(filename, dtype=str, delimiter=',')"
   ]
  },
  {
   "cell_type": "code",
   "execution_count": 2,
   "metadata": {},
   "outputs": [
    {
     "name": "stdout",
     "output_type": "stream",
     "text": [
      "Part 1: 505427\n"
     ]
    }
   ],
   "source": [
    "mulplier_pre_init = np.array([17 ** i for i in range(100, 0, -1)])\n",
    "def _hash(ins):\n",
    "    ins_arr = np.array([ord(i) for i in [*ins]])\n",
    "    mulplier = mulplier_pre_init[-ins_arr.size:]\n",
    "    product = np.sum(ins_arr * mulplier)\n",
    "    return product & 0xFF\n",
    "assert sum([_hash(ins) for ins in ['HASH']]) == 52\n",
    "assert sum([_hash(ins) for ins in \"rn=1,cm-,qp=3,cm=2,qp-,pc=4,ot=9,ab=5,pc-,pc=6,ot=7\".split(',')]) == 1320\n",
    "hash_result = sum([_hash(ins) for ins in read_instructions()])\n",
    "print(f\"Part 1: {hash_result}\")"
   ]
  },
  {
   "cell_type": "code",
   "execution_count": 3,
   "metadata": {},
   "outputs": [
    {
     "name": "stdout",
     "output_type": "stream",
     "text": [
      "Part 2: 243747\n"
     ]
    }
   ],
   "source": [
    "inss = read_instructions()\n",
    "# inss = \"rn=1,cm-,qp=3,cm=2,qp-,pc=4,ot=9,ab=5,pc-,pc=6,ot=7\".split(',')\n",
    "boxes = [[] for _ in range(256)]\n",
    "for ins in inss:\n",
    "  name = ins.split(\"=\")[0].split(\"-\")[0]\n",
    "  op = ins[len(name):]\n",
    "  key = _hash(name)\n",
    "  if \"-\" in op:\n",
    "    boxes[key] = [item for item in boxes[key] if item[0] != name]\n",
    "  if \"=\" in op:\n",
    "    num = int(op[1:])\n",
    "    if len(boxes[key]) == len([item for item in boxes[key] if item[0] != name]):\n",
    "      boxes[key].append((name, num))\n",
    "    else:\n",
    "      boxes[key] = [item if item[0] != name else (name, num) for item in boxes[key]]\n",
    "sol = 0\n",
    "for box_ind, box in enumerate(boxes):\n",
    "  for slot_ind, item in enumerate(box):\n",
    "    sol += (box_ind + 1) * (slot_ind + 1) * item[1]\n",
    "\n",
    "print(f\"Part 2: {sol}\")"
   ]
  }
 ],
 "metadata": {
  "kernelspec": {
   "display_name": "Python 3",
   "language": "python",
   "name": "python3"
  },
  "language_info": {
   "codemirror_mode": {
    "name": "ipython",
    "version": 3
   },
   "file_extension": ".py",
   "mimetype": "text/x-python",
   "name": "python",
   "nbconvert_exporter": "python",
   "pygments_lexer": "ipython3",
   "version": "3.11.4"
  }
 },
 "nbformat": 4,
 "nbformat_minor": 2
}
