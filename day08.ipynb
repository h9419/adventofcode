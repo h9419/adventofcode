{
 "cells": [
  {
   "cell_type": "code",
   "execution_count": 9,
   "metadata": {},
   "outputs": [
    {
     "name": "stdout",
     "output_type": "stream",
     "text": [
      "Part 1: 16343\n",
      "Part 2: 15299095336639\n"
     ]
    }
   ],
   "source": [
    "import numpy as np\n",
    "\n",
    "instructions = []\n",
    "maps = {}\n",
    "with open(\"input8.txt\", \"r\") as f:\n",
    "    instructions = np.array([*f.readline().strip()])\n",
    "    hits = np.where(instructions == 'R')\n",
    "    instructions = np.zeros(len(instructions), dtype=int)\n",
    "    instructions[hits] = 1\n",
    "    f.readline()\n",
    "    for line in f:\n",
    "        l = line.strip().replace(\"=\", \"\").replace(\"(\", \"\").replace(\")\", \"\").replace(\",\", \"\").split()\n",
    "        maps[l[0]] = l[1:]\n",
    "\n",
    "def solve(cur = 'AAA', end_func = lambda c: c == 'ZZZ'):\n",
    "    for i in range(1000000):\n",
    "        ins = instructions[i % instructions.size]\n",
    "        cur = maps[cur][ins]\n",
    "        if end_func(cur):\n",
    "            break\n",
    "    return (i+1, cur)\n",
    "\n",
    "print(f\"Part 1: {solve()[0]}\")\n",
    "\n",
    "curs = [c for c in maps.keys() if c[2] == 'A']\n",
    "metadata = []\n",
    "for cur in curs:\n",
    "    res, _ = solve(cur, lambda c: c[2] == 'Z')\n",
    "    metadata.append(res)\n",
    "result = np.lcm.reduce(np.array(metadata, dtype=np.int64))\n",
    "print(f\"Part 2: {result}\")"
   ]
  }
 ],
 "metadata": {
  "kernelspec": {
   "display_name": "Python 3",
   "language": "python",
   "name": "python3"
  },
  "language_info": {
   "codemirror_mode": {
    "name": "ipython",
    "version": 3
   },
   "file_extension": ".py",
   "mimetype": "text/x-python",
   "name": "python",
   "nbconvert_exporter": "python",
   "pygments_lexer": "ipython3",
   "version": "3.11.4"
  }
 },
 "nbformat": 4,
 "nbformat_minor": 2
}
