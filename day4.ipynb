{
 "cells": [
  {
   "cell_type": "code",
   "execution_count": 3,
   "metadata": {},
   "outputs": [
    {
     "name": "stdout",
     "output_type": "stream",
     "text": [
      "Part 1: 15205\n",
      "Part 2: 6189740\n"
     ]
    }
   ],
   "source": [
    "import numpy as np\n",
    "lines = []\n",
    "res = 0\n",
    "with open(\"input4.txt\", \"r\") as f:\n",
    "    for line in f:\n",
    "        lines.append([l.strip() for l in line.split('|')])\n",
    "points = np.zeros(len(lines), dtype=int)\n",
    "for ind, line in enumerate(lines):\n",
    "    inn = np.array([int(a) for a in line[0].split(':')[1].strip().split(\" \") if a != ''])\n",
    "    outt = np.array([int(a) for a in line[1].split(\" \") if a != ''])\n",
    "    mapp = np.zeros(1000, dtype=int)\n",
    "    mapp[inn] = 1\n",
    "    ress = np.sum(mapp[outt])\n",
    "    points[ind] = ress\n",
    "    if ress > 0:\n",
    "        res += 2**(ress - 1)\n",
    "print(f\"Part 1: {res}\")\n",
    "\n",
    "cards_count = np.ones_like(points, dtype=np.int64)\n",
    "\n",
    "for ind in range(len(points)):\n",
    "    try:\n",
    "        for i in range(points[ind]):\n",
    "            cards_count[ind+1+i] += cards_count[ind]\n",
    "    except: pass\n",
    "print(f\"Part 2: {np.sum(cards_count)}\")"
   ]
  },
  {
   "cell_type": "markdown",
   "metadata": {},
   "source": []
  }
 ],
 "metadata": {
  "kernelspec": {
   "display_name": "Python 3",
   "language": "python",
   "name": "python3"
  },
  "language_info": {
   "codemirror_mode": {
    "name": "ipython",
    "version": 3
   },
   "file_extension": ".py",
   "mimetype": "text/x-python",
   "name": "python",
   "nbconvert_exporter": "python",
   "pygments_lexer": "ipython3",
   "version": "3.11.4"
  }
 },
 "nbformat": 4,
 "nbformat_minor": 2
}
