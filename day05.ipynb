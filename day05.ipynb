{
 "cells": [
  {
   "cell_type": "code",
   "execution_count": 1,
   "metadata": {},
   "outputs": [
    {
     "name": "stdout",
     "output_type": "stream",
     "text": [
      "Part 1: 388071289\n"
     ]
    },
    {
     "name": "stderr",
     "output_type": "stream",
     "text": [
      " 84%|████████▍ | 84207/100000 [00:02<00:00, 35719.77it/s]\n"
     ]
    },
    {
     "name": "stdout",
     "output_type": "stream",
     "text": [
      "Part 2: 84207000 iteration 1\n"
     ]
    },
    {
     "name": "stderr",
     "output_type": "stream",
     "text": [
      " 67%|██████▋   | 669/1001 [00:00<00:00, 35738.71it/s]"
     ]
    },
    {
     "name": "stdout",
     "output_type": "stream",
     "text": [
      "Part 2: 84206669\n"
     ]
    },
    {
     "name": "stderr",
     "output_type": "stream",
     "text": [
      "\n"
     ]
    }
   ],
   "source": [
    "import numpy as np\n",
    "\n",
    "lines = []\n",
    "with open(\"input5.txt\", \"r\") as f:\n",
    "    for line in f:\n",
    "        lines.append(line.strip())\n",
    "# lines = [l for l in lines if l != '']\n",
    "seeds = [int(s) for s in lines[0].split()[1:]]\n",
    "\n",
    "maps = []\n",
    "for line in lines[2:]:\n",
    "    if 'map' in line:\n",
    "        maps.append([])\n",
    "    elif line != '':\n",
    "        maps[-1].append([int(l) for l in line.split()])\n",
    "\n",
    "def resolve_map(map, index):\n",
    "    for entry in map:\n",
    "        if index >= entry[1] and index < (entry[1] + entry[2]):\n",
    "            return index - entry[1] + entry[0]\n",
    "    return index \n",
    "\n",
    "def resolve_map_reverse(map, index):\n",
    "    for entry in map:\n",
    "        if index >= entry[0] and index < (entry[0] + entry[2]):\n",
    "            return index - entry[0] + entry[1]\n",
    "    return index\n",
    "\n",
    "result = []\n",
    "for seed in seeds:\n",
    "    for map in maps:\n",
    "        seed = resolve_map(map, seed)\n",
    "    result.append(seed)\n",
    "print(f\"Part 1: {np.min(result)}\")\n",
    "\n",
    "\n",
    "from tqdm import trange\n",
    "\n",
    "maps.reverse()\n",
    "for i in trange(0, 100000000, 1000):\n",
    "    seed = i\n",
    "    for map in maps:\n",
    "        seed = resolve_map_reverse(map, seed)\n",
    "    for seeed, rang in np.array(seeds).reshape((-1, 2)):\n",
    "        if seed >= seeed and seed < seeed + rang:\n",
    "            iter_1 = i\n",
    "            print(f\"Part 2: {i} iteration 1\")\n",
    "            break\n",
    "    else: continue\n",
    "    break\n",
    "\n",
    "for i in trange(iter_1 - 1000, iter_1 + 1):\n",
    "    seed = i\n",
    "    for map in maps:\n",
    "        seed = resolve_map_reverse(map, seed)\n",
    "    for seeed, rang in np.array(seeds).reshape((-1, 2)):\n",
    "        if seed >= seeed and seed < seeed + rang:\n",
    "            print(f\"Part 2: {i}\")\n",
    "            break\n",
    "    else: continue\n",
    "    break"
   ]
  },
  {
   "cell_type": "markdown",
   "metadata": {},
   "source": []
  }
 ],
 "metadata": {
  "kernelspec": {
   "display_name": "Python 3",
   "language": "python",
   "name": "python3"
  },
  "language_info": {
   "codemirror_mode": {
    "name": "ipython",
    "version": 3
   },
   "file_extension": ".py",
   "mimetype": "text/x-python",
   "name": "python",
   "nbconvert_exporter": "python",
   "pygments_lexer": "ipython3",
   "version": "3.11.4"
  }
 },
 "nbformat": 4,
 "nbformat_minor": 2
}
