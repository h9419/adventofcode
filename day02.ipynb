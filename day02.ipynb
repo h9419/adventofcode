{
 "cells": [
  {
   "cell_type": "code",
   "execution_count": 67,
   "metadata": {},
   "outputs": [
    {
     "data": {
      "text/plain": [
       "2632"
      ]
     },
     "execution_count": 67,
     "metadata": {},
     "output_type": "execute_result"
    }
   ],
   "source": [
    "import numpy as np\n",
    "import re\n",
    "\n",
    "def read_lines(filename = \"input2.txt\"):\n",
    "    res = []\n",
    "    with open(filename, \"r\") as f:\n",
    "        for li in f:\n",
    "            res.append(li.strip())\n",
    "    return res\n",
    "\n",
    "def find_sum(inputline):\n",
    "    input_arr = re.match(r\"^Game (\\d+): (.*)$\", inputline)\n",
    "    input_arr = ((input_arr).groups())\n",
    "    input_txt = [r.strip() for r in input_arr[1].split(';')]\n",
    "    for game in input_txt:\n",
    "        for numm, keyw in ((12, 'red'),(13,'green'),(14,'blue')):\n",
    "            this_games = re.findall(rf\"\\b(\\d+) {keyw}\", game)\n",
    "            tmp = 0\n",
    "            for itm in this_games:\n",
    "                tmp += int(itm)\n",
    "            try:\n",
    "                if tmp > numm:\n",
    "                    return 0\n",
    "            except:\n",
    "                pass\n",
    "    return int(input_arr[0])\n",
    "\n",
    "input_txt_3 = [find_sum(l) for l in read_lines()]\n",
    "# print(np.array(input_txt_3))\n",
    "np.sum(np.array(input_txt_3))"
   ]
  },
  {
   "cell_type": "code",
   "execution_count": 88,
   "metadata": {},
   "outputs": [
    {
     "data": {
      "text/plain": [
       "69629"
      ]
     },
     "execution_count": 88,
     "metadata": {},
     "output_type": "execute_result"
    }
   ],
   "source": [
    "import numpy as np\n",
    "import re\n",
    "\n",
    "def read_lines(filename = \"input2.txt\"):\n",
    "    res = []\n",
    "    with open(filename, \"r\") as f:\n",
    "        for li in f:\n",
    "            res.append(li.strip())\n",
    "    return res\n",
    "\n",
    "def find_sum(inputline):\n",
    "    input_arr = re.match(r\"^Game (\\d+): (.*)$\", inputline)\n",
    "    input_arr = ((input_arr).groups())\n",
    "    input_txt = [r.strip() for r in input_arr[1].split(';')]\n",
    "    s = [0,0,0]\n",
    "    for game in input_txt:\n",
    "        for indd, (numm, keyw) in enumerate(((12, 'red'),(13,'green'),(14,'blue'))):\n",
    "            this_games = re.findall(rf\"\\b(\\d+) {keyw}\", game)\n",
    "            tmp = 0\n",
    "            for itm in this_games:\n",
    "                tmp += int(itm)\n",
    "            try:\n",
    "                if s[indd] < tmp:\n",
    "                    s[indd] = tmp\n",
    "            except:\n",
    "                pass\n",
    "    return s[0] * s[1] * s[2]\n",
    "\n",
    "input_txt_3 = [find_sum(l) for l in read_lines()]\n",
    "np.sum(np.array(input_txt_3))"
   ]
  },
  {
   "cell_type": "markdown",
   "metadata": {},
   "source": []
  }
 ],
 "metadata": {
  "kernelspec": {
   "display_name": "Python 3",
   "language": "python",
   "name": "python3"
  },
  "language_info": {
   "codemirror_mode": {
    "name": "ipython",
    "version": 3
   },
   "file_extension": ".py",
   "mimetype": "text/x-python",
   "name": "python",
   "nbconvert_exporter": "python",
   "pygments_lexer": "ipython3",
   "version": "3.11.4"
  }
 },
 "nbformat": 4,
 "nbformat_minor": 2
}
