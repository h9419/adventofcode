{
 "cells": [
  {
   "cell_type": "code",
   "execution_count": 1,
   "metadata": {},
   "outputs": [
    {
     "data": {
      "text/plain": [
       "55090"
      ]
     },
     "execution_count": 1,
     "metadata": {},
     "output_type": "execute_result"
    }
   ],
   "source": [
    "import numpy as np\n",
    "\n",
    "def read_lines(filename = \"input.txt\"):\n",
    "    res = []\n",
    "    with open(filename, \"r\") as f:\n",
    "        for li in f:\n",
    "            res.append(li.strip())\n",
    "    return res\n",
    "\n",
    "def find_num(input):\n",
    "    input_arr = [*input]\n",
    "    input_arr = [int(i) for i in input_arr if i.isnumeric()]\n",
    "    return int(input_arr[0]) * 10 + int(input_arr[-1])\n",
    "   \n",
    "input_txt_3 = [find_num(l) for l in read_lines()]\n",
    "# print(np.array(input_txt_3))\n",
    "np.sum(np.array(input_txt_3))"
   ]
  },
  {
   "cell_type": "code",
   "execution_count": 2,
   "metadata": {},
   "outputs": [
    {
     "data": {
      "text/plain": [
       "54845"
      ]
     },
     "execution_count": 2,
     "metadata": {},
     "output_type": "execute_result"
    }
   ],
   "source": [
    "def find_num_2(input):\n",
    "    for num, num_str in enumerate(['zero', 'one', 'two', 'three', 'four', 'five', 'six', 'seven', 'eight', 'nine']):\n",
    "        input = input.lower().replace(num_str, f\"{num_str}{num}{num_str}\")\n",
    "    input_arr = [*input]\n",
    "    input_arr = [int(i) for i in input_arr if i.isnumeric()]\n",
    "    return int(input_arr[0]) * 10 + int(input_arr[-1])\n",
    "   \n",
    "input_txt_3 = [find_num_2(l) for l in read_lines()]\n",
    "# print(np.array(input_txt_3))\n",
    "np.sum(np.array(input_txt_3))"
   ]
  },
  {
   "cell_type": "markdown",
   "metadata": {},
   "source": []
  }
 ],
 "metadata": {
  "kernelspec": {
   "display_name": "Python 3",
   "language": "python",
   "name": "python3"
  },
  "language_info": {
   "codemirror_mode": {
    "name": "ipython",
    "version": 3
   },
   "file_extension": ".py",
   "mimetype": "text/x-python",
   "name": "python",
   "nbconvert_exporter": "python",
   "pygments_lexer": "ipython3",
   "version": "3.11.4"
  }
 },
 "nbformat": 4,
 "nbformat_minor": 2
}
